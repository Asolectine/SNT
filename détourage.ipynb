{
 "cells": [
  {
   "cell_type": "markdown",
   "metadata": {},
   "source": [
    "# Post-production et effets spéciaux"
   ]
  },
  {
   "cell_type": "markdown",
   "metadata": {},
   "source": [
    "chargement de la bibliothèque PIL permettant la manipulation d'images et du module display pour l'affichage d'images"
   ]
  },
  {
   "cell_type": "code",
   "execution_count": null,
   "metadata": {},
   "outputs": [],
   "source": [
    "import sys\n",
    "!{sys.executable} -m pip install pillow\n",
    "from PIL import Image\n",
    "from IPython.display import display"
   ]
  },
  {
   "cell_type": "markdown",
   "metadata": {},
   "source": [
    "Ouverture des deux images qui seront reconnues sous les noms de variable `img1` et `img2`. Ces noms sont arbitraires.\n",
    "\n",
    "`img1` correspond à l'image des chevaliers sur ***fond vert***.\n",
    "\n",
    "`img2` correspond à l'image de synthèse qui servira de ***décor***.\n"
   ]
  },
  {
   "cell_type": "code",
   "execution_count": null,
   "metadata": {},
   "outputs": [],
   "source": [
    "img1=Image.open(\"chevaliers.png\")\n",
    "img2=Image.open(\"arrière-plan.jpg\")"
   ]
  },
  {
   "cell_type": "markdown",
   "metadata": {},
   "source": [
    "On nomme `p` le pixel de `img1` et `q` le pixel de `img2`.\n",
    "\n",
    "si le pixel `p` est entièrement ***vert***, alors il faut ***le remplacer*** par le pixel `q` pour incruster l'image de fond."
   ]
  },
  {
   "cell_type": "code",
   "execution_count": null,
   "metadata": {},
   "outputs": [],
   "source": [
    "# \n",
    "#pour chaque ligne\n",
    "for x in range (1920):\n",
    "    #pour chaque colonne\n",
    "    for y in range (1920):\n",
    "        #récupération des composantes RGB du pixel étudié de img1 sous la variable p\n",
    "        p=img1.getpixel((x,y))\n",
    "        #récupération des composantes RGB du pixel étudié de img2 sous la variable q\n",
    "        q=img2.getpixel((x,y))\n",
    "        \n",
    "        #détection d'un pixel vert dans img1 pour le remplacer par le pixel de img2\n",
    "        if p==( , , ):\n",
    "            img1.putpixel((x,y), )"
   ]
  },
  {
   "cell_type": "markdown",
   "metadata": {},
   "source": [
    "Sauvegarde de l'image incrustée `img1` sous un nom adapté dans le répertoire et affichage du résultat. \n",
    "\n",
    "***Il faut modifier le nom du fichier image dans le code avec votre classe et votre nom***"
   ]
  },
  {
   "cell_type": "code",
   "execution_count": null,
   "metadata": {},
   "outputs": [],
   "source": [
    "img1.save(\"classe-nom-post-production.jpg\")\n",
    "display(img1)"
   ]
  }
 ],
 "metadata": {
  "kernelspec": {
   "display_name": "Python 3",
   "language": "python",
   "name": "python3"
  },
  "language_info": {
   "codemirror_mode": {
    "name": "ipython",
    "version": 3
   },
   "file_extension": ".py",
   "mimetype": "text/x-python",
   "name": "python",
   "nbconvert_exporter": "python",
   "pygments_lexer": "ipython3",
   "version": "3.7.6"
  }
 },
 "nbformat": 4,
 "nbformat_minor": 4
}
