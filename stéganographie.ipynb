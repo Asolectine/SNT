{
 "cells": [
  {
   "cell_type": "markdown",
   "metadata": {},
   "source": [
    "# Stéganographie"
   ]
  },
  {
   "cell_type": "markdown",
   "metadata": {},
   "source": [
    "<div class=\"alert alert-block alert-danger\"> L'objectif est de cacher un message dans une image </ul>"
   ]
  },
  {
   "cell_type": "code",
   "execution_count": null,
   "metadata": {},
   "outputs": [],
   "source": [
    "import sys\n",
    "!{sys.executable} -m pip install pillow\n",
    "#chargement de la bibliothèque PIL permettant la manipulation d'images\n",
    "from PIL import Image \n",
    "#chargement du module display pour l'affichage d'images\n",
    "from IPython.display import display"
   ]
  },
  {
   "cell_type": "markdown",
   "metadata": {},
   "source": [
    "Ouverture de l'image qui sera reconnue sous le nom de variable im1. Ce nom est arbitraire."
   ]
  },
  {
   "cell_type": "code",
   "execution_count": null,
   "metadata": {},
   "outputs": [],
   "source": [
    "im1=Image.open(\"Lena.png\")\n",
    "L,H = im1.size"
   ]
  },
  {
   "cell_type": "markdown",
   "metadata": {},
   "source": [
    "Création de l'image retouchée, sous le nom de variable im2, qui contiendra le texte caché."
   ]
  },
  {
   "cell_type": "code",
   "execution_count": null,
   "metadata": {},
   "outputs": [],
   "source": [
    "im2=im1.copy()"
   ]
  },
  {
   "cell_type": "markdown",
   "metadata": {},
   "source": [
    "<div class=\"alert alert-block alert-info\">\n",
    "        <b> Consigne </b> \n",
    "Voici la listes des modifications des 10 premiers pixels. r correspond aux modifications du canal rouge, v à celle du canal vert et b à celle du cananl bleu. <br>\n",
    "<ul><li>Garder en début de chaque valeur \"0b\" qui indique que la valeur est binaire.</li>\n",
    "    <li>Modifier les \"000\" arbitraire par la partie binaire de la lettre à cacher.</li>\n",
    "    </ul>"
   ]
  },
  {
   "cell_type": "markdown",
   "metadata": {},
   "source": [
    "<div class=\"alert alert-block alert-success\">\n",
    "    <details>\n",
    "        <summary> <b> Aides </b> </summary>\n",
    "Par exemple SOS en binaire est 01011010 / 01001111 / 01011010 et se répartira de la façon suivante :\n",
    "        <ul>\n",
    "            <li> r=[0b010,0b010,0b010] </li>\n",
    "            <li> v=[0b11,0b01,0b11] </li>\n",
    "            <li> b=[0b010,0b111,0b010] </li>\n",
    "        </ul>\n",
    "    </details>\n",
    "</div>"
   ]
  },
  {
   "cell_type": "code",
   "execution_count": null,
   "metadata": {},
   "outputs": [],
   "source": [
    "r=[0b000,0b000,0b000,0b000,0b000,0b000,0b000,0b000,0b000,0b000]\n",
    "v=[0b00,0b00,0b00,0b00,0b00,0b00,0b00,0b00,0b00,0b00]\n",
    "b=[0b000,0b000,0b000,0b000,0b000,0b000,0b000,0b000,0b000,0b000]"
   ]
  },
  {
   "cell_type": "markdown",
   "metadata": {},
   "source": [
    "Modification des valeurs des pixels"
   ]
  },
  {
   "cell_type": "code",
   "execution_count": null,
   "metadata": {},
   "outputs": [],
   "source": [
    "for x in range(9):\n",
    "    p = im1.getpixel((x,0))\n",
    "    r1 = p[0]&0b11111000    #mise à zéro des 3 derniers pixels\n",
    "    r2 = r1|r[x]            #Insertion des valeurs binaires sur les 3 derniers pixels\n",
    "    v1 = p[1]&0b11111100    #mise à zéro des 2 derniers pixels\n",
    "    v2 = v1|v[x]            #Insertion des valeurs binaires sur les 2 derniers pixels\n",
    "    b1 = p[2]&0b11111000    #mise à zéro des 3 derniers pixels\n",
    "    b2 = b1|b[x]            #Insertion des valeurs binaires sur les 3 derniers pixels\n",
    "    im2.putpixel((x,0),(r2,v2,b2))"
   ]
  },
  {
   "cell_type": "markdown",
   "metadata": {},
   "source": [
    "Affichage de l'image finale et sauvegarde sous le nom stégano.png"
   ]
  },
  {
   "cell_type": "code",
   "execution_count": null,
   "metadata": {},
   "outputs": [],
   "source": [
    "display(im1)\n",
    "display(im2)\n",
    "im2.save(\"stégano.png\")"
   ]
  },
  {
   "cell_type": "code",
   "execution_count": null,
   "metadata": {},
   "outputs": [],
   "source": [
    "<font size=\"1\"> contact : sophie.gronlier@ac-lille.fr </font>"
   ]
  }
 ],
 "metadata": {
  "kernelspec": {
   "display_name": "Python 3",
   "language": "python",
   "name": "python3"
  },
  "language_info": {
   "codemirror_mode": {
    "name": "ipython",
    "version": 3
   },
   "file_extension": ".py",
   "mimetype": "text/x-python",
   "name": "python",
   "nbconvert_exporter": "python",
   "pygments_lexer": "ipython3",
   "version": "3.7.6"
  }
 },
 "nbformat": 4,
 "nbformat_minor": 4
}
