{
 "cells": [
  {
   "cell_type": "markdown",
   "metadata": {},
   "source": [
    "# Trame NMEA, décryptage et cartographie"
   ]
  },
  {
   "cell_type": "markdown",
   "metadata": {},
   "source": [
    "Saisie de la Trame : coller la trame NMEA à étudier entre les symboles <b> '  '</b> <br>\n",
    "(S'ils disparaîssent, ces symboles se trouvent à la touche 4 du clavier)"
   ]
  },
  {
   "cell_type": "code",
   "execution_count": null,
   "metadata": {},
   "outputs": [],
   "source": [
    "Trame='   '  #coller la trame NMEA entre les symboles ' '"
   ]
  },
  {
   "cell_type": "markdown",
   "metadata": {},
   "source": [
    "Décomposition de la Trame en différentes portions appelées sperare[i] où i est le ième composant. Chaque composante étant séparé par une virgule "
   ]
  },
  {
   "cell_type": "code",
   "execution_count": null,
   "metadata": {},
   "outputs": [],
   "source": [
    "separe=Trame.split(',')"
   ]
  },
  {
   "cell_type": "markdown",
   "metadata": {},
   "source": [
    "Par exemple separe[0] correspond au type de trame "
   ]
  },
  {
   "cell_type": "code",
   "execution_count": null,
   "metadata": {},
   "outputs": [],
   "source": [
    "separe[0]"
   ]
  },
  {
   "cell_type": "markdown",
   "metadata": {},
   "source": [
    "Pour pouvoir reporter les données sur une carte, il faut identifier la latitude et la longitude en degré. <br>\n",
    "La trame NMEA indique les coordonnées en <b>degrés-minute DDMM.MMMM </b>(DD : degrés et MM.MMMM : minutes arrondies au dix-millième de minute).<br>\n",
    "Il faut donc <b> convertir en degrés DD.DDDD</b>.<br>La formule suivante permet de convertir les latitudes et longitudes données en degrés-minutes en degrés décimaux:<br>\n",
    "<b>DD=(minutes÷60) +degré</b>\n"
   ]
  },
  {
   "cell_type": "code",
   "execution_count": null,
   "metadata": {},
   "outputs": [],
   "source": [
    "from math import *\n",
    "def conversion(coord):\n",
    "    deg = floor(coord/100)   #floor permet d’obtenir la partie entière d’un nombre.floor(12.6)renvoie 12.\n",
    "    m = floor(coord-deg*100)\n",
    "    return round(deg+m/60,4)"
   ]
  },
  {
   "cell_type": "markdown",
   "metadata": {},
   "source": [
    "Pour pouvoir reporter les données sur une carte, il faut identifier la latitude et la longitude de façon algébrique. <br>\n",
    "Si la latitude est dirigée vers le Nord (<b>N</b>) elle est comptée <b> POSITIVE </b> et si elle est vers le Sud (<b>S</b>) elle est comptée <b>NEGATIVE</b>. <br>\n",
    "De même une longitude est <b>POSITIVE</b> dans la direction Est (<b>E</b>) et <b>NEGATIVE</b> dans la direction ouest (<b>W</b>). <br>\n",
    "Compte-tenu de ces informations, compléter le programme suivant :"
   ]
  },
  {
   "cell_type": "code",
   "execution_count": null,
   "metadata": {},
   "outputs": [],
   "source": [
    "latitude=float(separe[ ])           #inscrire le numéro de la composante de trame correspondant à la latitude\n",
    "if separe[ ]=='X':                  #inscrire le numéro de la composante de trame correspondant à l'information N ou S, puis remplacer X par N ou S d'après le signe de la ligne du dessous\n",
    "    latitude=+conversion(latitude)\n",
    "elif separe[ ]=='X':                #inscrire le numéro de la composante de trame correspondant à l'information N ou S, puis remplacer X par N ou S d'après le signe de la ligne du dessous\n",
    "    latitude=-conversion(latitude)\n",
    "    \n",
    "latitude"
   ]
  },
  {
   "cell_type": "code",
   "execution_count": null,
   "metadata": {},
   "outputs": [],
   "source": [
    "longitude=float(separe[ ])           #inscrire le numéro de la composante de trame correspondant à la latitude\n",
    "if separe[ ]=='X':                   #inscrire le numéro de la composante de trame correspondant à l'information E ou W, puis remplacer X par E ou W d'après le signe de la ligne du dessous\n",
    "    longitude=+conversion(longitude)\n",
    "elif separe[ ]=='X':                 #inscrire le numéro de la composante de trame correspondant à l'information E ou W, puis remplacer X par E ou W d'après le signe de la ligne du dessous\n",
    "    longitude=-conversion(longitude)\n",
    "    \n",
    "longitude"
   ]
  },
  {
   "cell_type": "markdown",
   "metadata": {},
   "source": [
    "Positionnement sur une carte"
   ]
  },
  {
   "cell_type": "code",
   "execution_count": null,
   "metadata": {},
   "outputs": [],
   "source": [
    "# Importe la bobliothèque folium qui contient des éléments de la carte\n",
    "import folium\n",
    "\n",
    "# Crée une carte que l'on nomme CartePosition\n",
    "# Cette carte est centrée sur la latitude et la longitude, indiquées dans \n",
    "# Location=[,] et zoom_start donne la valeur du zoom utilisé pour la carte\n",
    "CartePosition=folium.Map(location=[latitude, longitude],zoom_start=5)\n",
    "folium.Marker(location=[latitude, longitude]).add_to(CartePosition)\n",
    "    # Enfin on crée un fichier dans un format lisible pour l'utilisateur dont\n",
    "# on indique le nom \"CarteFinale\" et l'extension \"html\"\n",
    "CartePosition.save('CarteFinale.html')"
   ]
  },
  {
   "cell_type": "markdown",
   "metadata": {},
   "source": [
    "Visualisation de la carte"
   ]
  },
  {
   "cell_type": "code",
   "execution_count": null,
   "metadata": {},
   "outputs": [],
   "source": [
    "CartePosition"
   ]
  }
 ],
 "metadata": {
  "kernelspec": {
   "display_name": "Python 3",
   "language": "python",
   "name": "python3"
  },
  "language_info": {
   "codemirror_mode": {
    "name": "ipython",
    "version": 3
   },
   "file_extension": ".py",
   "mimetype": "text/x-python",
   "name": "python",
   "nbconvert_exporter": "python",
   "pygments_lexer": "ipython3",
   "version": "3.7.6"
  }
 },
 "nbformat": 4,
 "nbformat_minor": 4
}
