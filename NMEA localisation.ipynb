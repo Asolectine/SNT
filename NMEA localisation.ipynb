{
 "cells": [
  {
   "cell_type": "code",
   "execution_count": 20,
   "metadata": {},
   "outputs": [
    {
     "name": "stdout",
     "output_type": "stream",
     "text": [
      "fix_time                   : 204311.602\n",
      "validity                   : A\n",
      "latitude                   : 3747.3392\n",
      "latitude_hemisphere        : N\n",
      "longitude                  : 12223.8954\n",
      "longitude_hemisphere       : W\n",
      "speed                      : 0.50\n",
      "true_course                : 324.18\n",
      "fix_date                   : 061115\n",
      "variation                  : \n",
      "variation_e_w              : \n",
      "checksum                   : A*7A\n",
      "decimal_latitude           : 37.788986666666666\n",
      "decimal_longitude          : -122.39825666666667\n",
      "{'fix_time': '204311.602', 'validity': 'A', 'latitude': '3747.3392', 'latitude_hemisphere': 'N', 'longitude': '12223.8954', 'longitude_hemisphere': 'W', 'speed': '0.50', 'true_course': '324.18', 'fix_date': '061115', 'variation': '', 'variation_e_w': '', 'checksum': 'A*7A', 'decimal_latitude': 37.788986666666666, 'decimal_longitude': -122.39825666666667}\n"
     ]
    }
   ],
   "source": [
    "# Convertir en décimale HHMM.SS, Hemisphere:\n",
    "def degrees_to_decimal(data, hemisphere):\n",
    "    try:\n",
    "        decimalPointPosition = data.index('.')\n",
    "        degrees = float(data[:decimalPointPosition-2])\n",
    "        minutes = float(data[decimalPointPosition-2:])/60\n",
    "        output = degrees+minutes\n",
    "        if hemisphere is'N'or hemisphere is'E':\n",
    "            return output \n",
    "        if hemisphere is'S'or hemisphere is'W':\n",
    "            return -output\n",
    "    except:\n",
    "            return\"\"\n",
    "    \n",
    "# Décoder une trame $GPRMC, et en faire un dictionnaire ( Python dictionary ).\n",
    "def parse_GPRMC(data):\n",
    "    data = data.split(',')\n",
    "    dict = {\n",
    "        'fix_time': data[1],\n",
    "        'validity': data[2],\n",
    "        'latitude': data[3],\n",
    "        'latitude_hemisphere' : data[4],\n",
    "        'longitude' : data[5],\n",
    "        'longitude_hemisphere' : data[6],\n",
    "        'speed': data[7],\n",
    "        'true_course': data[8],\n",
    "        'fix_date': data[9],\n",
    "        'variation': data[10],\n",
    "        'variation_e_w' : data[11],\n",
    "        'checksum' : data[12]    \n",
    "    }\n",
    "    dict['decimal_latitude'] = degrees_to_decimal(dict['latitude'],dict['latitude_hemisphere'])\n",
    "    dict['decimal_longitude'] = degrees_to_decimal(dict['longitude'],dict['longitude_hemisphere'])\n",
    "    return dict\n",
    "trame =\"$GPRMC,204311.602,A,3747.3392,N,12223.8954,W,0.50,324.18,061115,,,A*7A\"\n",
    "dico = parse_GPRMC(trame)\n",
    "for k in dico.keys():\n",
    "    print(\"{:<25}  : {}\".format(k,dico[k]))\n",
    "    \n",
    "print(dico)"
   ]
  },
  {
   "cell_type": "code",
   "execution_count": null,
   "metadata": {},
   "outputs": [],
   "source": []
  },
  {
   "cell_type": "code",
   "execution_count": 30,
   "metadata": {},
   "outputs": [],
   "source": [
    "trame =\"$GPRMC,204311.602,A,3747.3392,N,12223.8954,W,0.50,324.18,061115,,,A*7A\""
   ]
  },
  {
   "cell_type": "code",
   "execution_count": 36,
   "metadata": {},
   "outputs": [],
   "source": [
    "decode=trame.split(',')"
   ]
  },
  {
   "cell_type": "code",
   "execution_count": 32,
   "metadata": {},
   "outputs": [
    {
     "data": {
      "text/plain": [
       "['$GPRMC',\n",
       " '204311.602',\n",
       " 'A',\n",
       " '3747.3392',\n",
       " 'N',\n",
       " '12223.8954',\n",
       " 'W',\n",
       " '0.50',\n",
       " '324.18',\n",
       " '061115',\n",
       " '',\n",
       " '',\n",
       " 'A*7A']"
      ]
     },
     "execution_count": 32,
     "metadata": {},
     "output_type": "execute_result"
    }
   ],
   "source": [
    "decode"
   ]
  },
  {
   "cell_type": "code",
   "execution_count": 34,
   "metadata": {},
   "outputs": [
    {
     "data": {
      "text/plain": [
       "3747.3392"
      ]
     },
     "execution_count": 34,
     "metadata": {},
     "output_type": "execute_result"
    }
   ],
   "source": [
    "float(decode[3])"
   ]
  },
  {
   "cell_type": "code",
   "execution_count": 40,
   "metadata": {},
   "outputs": [
    {
     "ename": "ValueError",
     "evalue": "could not convert string to float: '$GPRMC'",
     "output_type": "error",
     "traceback": [
      "\u001b[1;31m---------------------------------------------------------------------------\u001b[0m",
      "\u001b[1;31mValueError\u001b[0m                                Traceback (most recent call last)",
      "\u001b[1;32m<ipython-input-40-6c18e1cd226e>\u001b[0m in \u001b[0;36m<module>\u001b[1;34m\u001b[0m\n\u001b[1;32m----> 1\u001b[1;33m \u001b[0mdecode\u001b[0m\u001b[1;33m=\u001b[0m\u001b[0mlist\u001b[0m\u001b[1;33m(\u001b[0m\u001b[0mmap\u001b[0m\u001b[1;33m(\u001b[0m\u001b[0mfloat\u001b[0m\u001b[1;33m,\u001b[0m\u001b[0mtrame\u001b[0m\u001b[1;33m.\u001b[0m\u001b[0msplit\u001b[0m\u001b[1;33m(\u001b[0m\u001b[1;34m','\u001b[0m\u001b[1;33m)\u001b[0m\u001b[1;33m)\u001b[0m\u001b[1;33m)\u001b[0m\u001b[1;33m\u001b[0m\u001b[1;33m\u001b[0m\u001b[0m\n\u001b[0m",
      "\u001b[1;31mValueError\u001b[0m: could not convert string to float: '$GPRMC'"
     ]
    }
   ],
   "source": [
    "decode=list(map(float,trame.split(',')))"
   ]
  },
  {
   "cell_type": "code",
   "execution_count": 39,
   "metadata": {},
   "outputs": [
    {
     "name": "stdout",
     "output_type": "stream",
     "text": [
      "<map object at 0x0000021239700DC8>\n"
     ]
    }
   ],
   "source": []
  },
  {
   "cell_type": "markdown",
   "metadata": {},
   "source": [
    "# Trame NMEA, décryptage et cartographie"
   ]
  },
  {
   "cell_type": "markdown",
   "metadata": {},
   "source": [
    "Saisie de la Trame, exercuter la ligne ci-dessous et une boîte de dialogue va s'ouvrir. <br>\n",
    "Vous pourrez alors coller la trame NMEA à étudier et appuyer ensuite sur entrer"
   ]
  },
  {
   "cell_type": "code",
   "execution_count": 21,
   "metadata": {},
   "outputs": [
    {
     "name": "stdin",
     "output_type": "stream",
     "text": [
      "Copier la trame NMEA ici :  $GPGGA,223911.899,4531.417,N,12240.510,W,1,12,1.0,0.0,M,0.0,M,,*7E\n"
     ]
    }
   ],
   "source": [
    "Trame=input(\"\"\"Copier la trame NMEA ici : \"\"\")"
   ]
  },
  {
   "cell_type": "markdown",
   "metadata": {},
   "source": [
    "Décomposition de la Trame en différentes portions appelées sperare[i] où i est le ième composant. Chaque composante étant séparé par une virgule "
   ]
  },
  {
   "cell_type": "code",
   "execution_count": 2,
   "metadata": {},
   "outputs": [],
   "source": [
    "separe=Trame.split(',')"
   ]
  },
  {
   "cell_type": "markdown",
   "metadata": {},
   "source": [
    "Par exemple separe[0] correspond au type de trame "
   ]
  },
  {
   "cell_type": "code",
   "execution_count": 2,
   "metadata": {},
   "outputs": [
    {
     "data": {
      "text/plain": [
       "'$GPGGA'"
      ]
     },
     "execution_count": 2,
     "metadata": {},
     "output_type": "execute_result"
    }
   ],
   "source": [
    "separe[0]"
   ]
  },
  {
   "cell_type": "markdown",
   "metadata": {},
   "source": [
    "Pour pouvoir reporter les données sur une carte, il faut identifier la latitude et la longitude en degré. <br>\n",
    "La trame NMEA indique les coordonnées en <b>degrés-minute DDMM.MMMM </b>(DD : degrés et MM.MMMM : minutes arrondies au dix-millième de minute).<br>\n",
    "Il faut donc <b> convertir en degrés DD.DDDD</b>.<br>La formule suivante permet de convertir les latitudes et longitudes données en degrés-minutes en degrés décimaux:<br>\n",
    "<b>DD=(minutes÷60) +degré</b>\n"
   ]
  },
  {
   "cell_type": "markdown",
   "metadata": {},
   "source": [
    "from math import *\n",
    "def conversion(coord):\n",
    "    deg = floor(coord/100) #floor permet d’obtenir la partie entière d’un nombre.floor(12.6)renvoie 12.\n",
    "    m = floor(coord-deg*100)\n",
    "    return round(deg+m/60,4)"
   ]
  },
  {
   "cell_type": "markdown",
   "metadata": {},
   "source": [
    "Pour pouvoir reporter les données sur une carte, il faut identifier la latitude et la longitude de façon algébrique. <br>\n",
    "Si la latitude est dirigée vers le Nord (<b>N</b>) elle est comptée <b> POSITIVE </b> et si elle est vers le Sud (<b>S</b>) elle est comptée <b>NEGATIVE</b>. <br>\n",
    "De même une longitude est <b>POSITIVE</b> dans la direction Est (<b>E</b>) et <b>NEGATIVE</b> dans la direction ouest (<b>W</b>). <br>\n",
    "Compte-tenu de ces informations, compléter le programme suivant :"
   ]
  },
  {
   "cell_type": "code",
   "execution_count": 19,
   "metadata": {},
   "outputs": [],
   "source": [
    "latitude=float(separe[ ])           #inscrire le numéro de la composante de trame correspondant à la latitude\n",
    "if separe[ ]=='X':                  #inscrire le numéro de la composante de trame correspondant à l'information N ou S, puis remplacer X par N ou S d'après le signe de la ligne du dessous\n",
    "    latitude=+conversion(latitude)\n",
    "elif separe[ ]=='X':                #inscrire le numéro de la composante de trame correspondant à l'information N ou S, puis remplacer X par N ou S d'après le signe de la ligne du dessous\n",
    "    latitude=-conversion(latitude)\n",
    "    \n",
    "latitude"
   ]
  },
  {
   "cell_type": "code",
   "execution_count": 20,
   "metadata": {},
   "outputs": [],
   "source": [
    "longitude=float(separe[ ])           #inscrire le numéro de la composante de trame correspondant à la latitude\n",
    "if separe[ ]=='X':                   #inscrire le numéro de la composante de trame correspondant à l'information N ou S, puis remplacer X par N ou S d'après le résultat de la ligne du dessous\n",
    "    longitude=+conversion(longitude)\n",
    "elif separe[ ]=='X':                 #inscrire le numéro de la composante de trame correspondant à l'information N ou S, puis remplacer X par N ou S d'après le signe de la ligne du dessous\n",
    "    longitude=-conversion(longitude)\n",
    "    \n",
    "longitude"
   ]
  },
  {
   "cell_type": "markdown",
   "metadata": {},
   "source": [
    "Positionnement sur une carte"
   ]
  },
  {
   "cell_type": "code",
   "execution_count": null,
   "metadata": {},
   "outputs": [],
   "source": [
    "# Importe la bobliothèque folium qui contient des éléments de la carte\n",
    "import folium\n",
    "\n",
    "# Crée une carte que l'on nomme CartePosition\n",
    "# Cette carte est centrée sur la latitude et la longitude, indiquées dans \n",
    "# Location=[,] et zoom_start donne la valeur du zoom utilisé pour la carte\n",
    "CartePosition=folium.Map(location=[latitude, longitude])\n",
    "folium.Marker(location=[latitude, longitude]).add_to(CartePosition)\n",
    "    # Enfin on crée un fichier dans un format lisible pour l'utilisateur dont\n",
    "# on indique le nom \"CarteFinale\" et l'extension \"html\"\n",
    "CartePosition.save('CarteFinale.html')"
   ]
  },
  {
   "cell_type": "markdown",
   "metadata": {},
   "source": [
    "Visualisation de la carte"
   ]
  },
  {
   "cell_type": "code",
   "execution_count": null,
   "metadata": {},
   "outputs": [],
   "source": [
    "CartePosition"
   ]
  }
 ],
 "metadata": {
  "kernelspec": {
   "display_name": "Python 3",
   "language": "python",
   "name": "python3"
  },
  "language_info": {
   "codemirror_mode": {
    "name": "ipython",
    "version": 3
   },
   "file_extension": ".py",
   "mimetype": "text/x-python",
   "name": "python",
   "nbconvert_exporter": "python",
   "pygments_lexer": "ipython3",
   "version": "3.7.6"
  }
 },
 "nbformat": 4,
 "nbformat_minor": 4
}
