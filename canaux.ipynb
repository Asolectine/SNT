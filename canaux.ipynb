{
 "cells": [
  {
   "cell_type": "markdown",
   "metadata": {},
   "source": [
    "# Manipuler les canaux d'une image avec Python"
   ]
  },
  {
   "cell_type": "markdown",
   "metadata": {},
   "source": [
    "chargement de la bibliothèque PIL permettant la manipulation d'images et du module display pour l'affichage d'images"
   ]
  },
  {
   "cell_type": "code",
   "execution_count": null,
   "metadata": {},
   "outputs": [],
   "source": [
    "import sys\n",
    "!{sys.executable} -m pip install pillow\n",
    "from PIL import Image\n",
    "from IPython.display import display"
   ]
  },
  {
   "cell_type": "markdown",
   "metadata": {},
   "source": [
    "ouverture de ***l'image d'origine*** qui sera reconnue sous le nom de variable `imgOrigine` : Ce nom est arbitraire."
   ]
  },
  {
   "cell_type": "code",
   "execution_count": null,
   "metadata": {},
   "outputs": [],
   "source": [
    "imgOrigine=Image.open(\"Lena.png\")"
   ]
  },
  {
   "cell_type": "markdown",
   "metadata": {},
   "source": [
    "Récupération de la largeur et de la hauteur de l'image  en pixels :"
   ]
  },
  {
   "cell_type": "code",
   "execution_count": null,
   "metadata": {},
   "outputs": [],
   "source": [
    "largeur,hauteur=imgOrigine.size\n",
    "print(largeur)\n",
    "print(hauteur)"
   ]
  },
  {
   "cell_type": "markdown",
   "metadata": {},
   "source": [
    "Création d'une ***nouvelle image*** reconnue sous le nom de variable `imgFinal`"
   ]
  },
  {
   "cell_type": "code",
   "execution_count": null,
   "metadata": {},
   "outputs": [],
   "source": [
    "imgFinal=Image.new('RGB',(largeur,hauteur))"
   ]
  },
  {
   "cell_type": "markdown",
   "metadata": {},
   "source": [
    "Enregistrement des pixels d'intérêt dans l'image finale d'après les composantes de l'image initiale. \n",
    "\n",
    "C'est à dire la variable `imgFinal` affectera à chaque pixel de position `(x,y)` les valeurs `(r,v,b)` choisies de l'image initiale `imgOrigine`."
   ]
  },
  {
   "cell_type": "code",
   "execution_count": null,
   "metadata": {},
   "outputs": [],
   "source": [
    "# pour chaque ligne :\n",
    "for y in range(hauteur):\n",
    "    #pour chaque colonne :\n",
    "    for x in range(largeur):\n",
    "        # Récupération des composantes RGB du pixel courant (triplet r,g,b).\n",
    "        r,v,b = imgOrigine.getpixel((x, y))\n",
    "        \n",
    "        \n",
    "        #La variable imgFinal affectera à chaque pixel de position (x,y) les valeurs r,v,b de l'image initiale.\n",
    "        imgFinal.putpixel((x, y), (r,v,b))"
   ]
  },
  {
   "cell_type": "markdown",
   "metadata": {},
   "source": [
    "Sauvegarde de `imgFinal` sous un nom adapté dans le répertoire. \n",
    "\n",
    "Par exemple classe-nom-Lenna-couleur.jpg qui correspond à l'image en couleurs lorsque l'on conserve tous les canaux `(r,v,b)`. \n",
    "\n",
    "***Il faut changer le nom du fichier image dans le code pour chaque manipulation!***"
   ]
  },
  {
   "cell_type": "code",
   "execution_count": null,
   "metadata": {},
   "outputs": [],
   "source": [
    "imgFinal.save(\"classe-nom-Lena-vert.jpg\" )\n",
    "# on montre l\"image traitée :\n",
    "display(imgFinal)"
   ]
  }
 ],
 "metadata": {
  "kernelspec": {
   "display_name": "Python 3",
   "language": "python",
   "name": "python3"
  },
  "language_info": {
   "codemirror_mode": {
    "name": "ipython",
    "version": 3
   },
   "file_extension": ".py",
   "mimetype": "text/x-python",
   "name": "python",
   "nbconvert_exporter": "python",
   "pygments_lexer": "ipython3",
   "version": "3.7.6"
  }
 },
 "nbformat": 4,
 "nbformat_minor": 4
}
